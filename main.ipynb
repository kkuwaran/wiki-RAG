{
 "cells": [
  {
   "cell_type": "markdown",
   "metadata": {},
   "source": [
    "## Fetch and Embed Wikipedia Content"
   ]
  },
  {
   "cell_type": "code",
   "execution_count": null,
   "metadata": {},
   "outputs": [],
   "source": [
    "from wiki_content_processor import fetch_and_process_wikipedia_content\n",
    "from embedding_generator import embed_dataframe\n",
    "\n",
    "\n",
    "# Define the parameters for the embedding process\n",
    "title = \"2024\"\n",
    "file_name = f\"database/embedded_wiki_{title}.csv\"\n",
    "embedding_model = \"text-embedding-3-small\"\n",
    "verbose = False\n",
    "\n",
    "# Fetch and process the wikipedia content, then embed the content using the specified model\n",
    "df = fetch_and_process_wikipedia_content(title, verbose)\n",
    "embed_dataframe(df, output_file=file_name, model=embedding_model, show_preview=verbose)"
   ]
  },
  {
   "cell_type": "markdown",
   "metadata": {},
   "source": [
    "## Query RAG Model for Answers"
   ]
  },
  {
   "cell_type": "code",
   "execution_count": 2,
   "metadata": {},
   "outputs": [
    {
     "name": "stdout",
     "output_type": "stream",
     "text": [
      "Question: What are the important events in Thailand? \n",
      "\n",
      "Answer: The important events in Thailand are:\n",
      "\n",
      "- May 14, 2023: The 2023 Thai general election is held, with pro-democratic parties such as the Move Forward and Pheu Thai parties gaining a majority of seats in the House of Representatives while pro-military parties such as Palang Pracharat lost seats.\n",
      "- July 13, 2023: Pita Limjaroenrat fails to become Prime Minister of Thailand in a National Assembly vote after forming a coalition with pro-democracy parties following the 2023 Thai general election.\n",
      "- August 22, 2023: Former Prime Minister Thaksin Shinawatra returns to Thailand after 15 years of political exile.\n",
      "- August 7, 2024: The Move Forward Party is dissolved and Pita Limjaroenrat, alongside other senior politicians from the party, are banned from politics by the Constitutional Court of Thailand.\n",
      "- August 14, 2024: The Constitutional Court of Thailand dismisses Prime Minister Srettha Thavisin for illegally appointing a minister to his cabinet who had a prison sentence. Paetongtarn Shinawatra succeeds him as Prime Minister of Thailand.\n"
     ]
    }
   ],
   "source": [
    "from rag_query import get_answer\n",
    "\n",
    "\n",
    "# Define the query parameters\n",
    "user_query = \"What are the important events in Thailand?\"\n",
    "\n",
    "\n",
    "# Get the answer using the RAG model\n",
    "file_names = [\"database/embedded_wiki_2023.csv\", \"database/embedded_wiki_2024.csv\"]\n",
    "embedding_model = \"text-embedding-3-small\"\n",
    "max_input_tokens = 600\n",
    "max_output_tokens = 400\n",
    "verbose = False\n",
    "\n",
    "llm_kwargs = dict(max_input_tokens=max_input_tokens, max_output_tokens=max_output_tokens)\n",
    "answer = get_answer(user_query, file_names, embedding_model, llm_kwargs=llm_kwargs, verbose=verbose)\n",
    "print(f\"Question: {user_query} \\n\\nAnswer: {answer}\")"
   ]
  },
  {
   "cell_type": "code",
   "execution_count": null,
   "metadata": {},
   "outputs": [],
   "source": []
  }
 ],
 "metadata": {
  "kernelspec": {
   "display_name": "Python 3",
   "language": "python",
   "name": "python3"
  },
  "language_info": {
   "codemirror_mode": {
    "name": "ipython",
    "version": 3
   },
   "file_extension": ".py",
   "mimetype": "text/x-python",
   "name": "python",
   "nbconvert_exporter": "python",
   "pygments_lexer": "ipython3",
   "version": "3.12.3"
  }
 },
 "nbformat": 4,
 "nbformat_minor": 2
}
